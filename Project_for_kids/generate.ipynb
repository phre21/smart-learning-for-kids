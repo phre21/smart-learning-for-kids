{
 "cells": [
  {
   "cell_type": "markdown",
   "id": "9de52c1f-41b2-4fbf-8a3d-d27792342a00",
   "metadata": {},
   "source": [
    "# Audio Generation"
   ]
  },
  {
   "cell_type": "code",
   "execution_count": 5,
   "id": "7da02020-791e-4a30-b8ad-3da258a59c86",
   "metadata": {},
   "outputs": [],
   "source": [
    "from gtts import gTTS\n",
    "\n",
    "# Correct answer audio (Amharic)\n",
    "tts_correct = gTTS(\"አዎ በትክክል!\", lang='am')\n",
    "tts_correct.save(\"audio/correct_amharic.mp3\")\n",
    "\n",
    "# Wrong answer audio (Amharic)\n",
    "tts_wrong = gTTS(\"ስህተት ነው፣ አይደለም።\", lang='am')\n",
    "tts_wrong.save(\"audio/wrong_amharic.mp3\")\n"
   ]
  },
  {
   "cell_type": "code",
   "execution_count": 1,
   "id": "852d5a5f-f7e8-48b8-b884-8ac76f703a53",
   "metadata": {},
   "outputs": [
    {
     "name": "stdout",
     "output_type": "stream",
     "text": [
      "✅ Audio file saved as genesis1_amharic.mp3\n"
     ]
    }
   ],
   "source": [
    "from gtts import gTTS\n",
    "\n",
    "# Bible story intro in Amharic (Creation story example)\n",
    "text = \"\"\"\n",
    "መጀመሪያ እግዚአብሔር ሰማይንና ምድርን ፈጠረ።\n",
    "ምድሪቱም ባዶና ባለሥልጣን ነበረች፤\n",
    "ጨለማም በጥልቁ ውኃ ላይ ነበረ፤\n",
    "የእግዚአብሔር መንፈስም በውኃው ላይ ተንቀሳቀሰ።\n",
    "እግዚአብሔርም፦ “ብርሃን ይሁን” አለ፤ ብርሃንም ሆነ።\n",
    "\"\"\"\n",
    "\n",
    "tts = gTTS(text=text, lang='am')\n",
    "tts.save(\"audio/genesis1_amharic.mp3\")\n",
    "print(\"✅ Audio file saved as genesis1_amharic.mp3\")\n"
   ]
  },
  {
   "cell_type": "code",
   "execution_count": 2,
   "id": "c73f5922-a338-4c16-a608-38944a3a0e52",
   "metadata": {},
   "outputs": [
    {
     "name": "stdout",
     "output_type": "stream",
     "text": [
      "✅ Saved as audio/learning_tips_7_9.mp3\n"
     ]
    }
   ],
   "source": [
    "from gtts import gTTS\n",
    "\n",
    "text = \"\"\"\n",
    "ሰላም ውድ ሕፃናት!\n",
    "\n",
    "ዛሬ በአንድ ደቂቃ ውስጥ ጠቃሚ መረጃ እንማራለን።\n",
    "\n",
    "መጀመሪያ፣ ማስተማር በጣም አስፈላጊ ነው። የትምህርት ቤት ላይ በጥሩ መንገድ መስማትና መጻፍ ያሳደግልናል።\n",
    "\n",
    "ነገር ግን፣ ብቻችን አንቀመጥና አንሰማም፣ መንቀሳቀስም ያስፈልጋል። ከትምህርት በኋላ ማግሣት፣ እንቅስቃሴ ማድረግ እና ከጓደኞቻችን ጋር መጫወት ነው የጤናችን ቁልፍ።\n",
    "\n",
    "በመጨረሻ፣ ምግብ መብላት፣ እንቁላል፣ በርበሬ፣ ፍራፍሬ፣ ማይ መጠጣት በጤና ላይ ትልቅ ተፅእኖ አለው።\n",
    "\n",
    "እንማር፣ እንንቀሳቀስ፣ እና እንጠብቅ ጤናችንን።\n",
    "\n",
    "እናመሰግናለን!\n",
    "\"\"\"\n",
    "\n",
    "tts = gTTS(text=text, lang='am')\n",
    "tts.save(\"audio/learning_tips_7_9.mp3\")\n",
    "print(\"✅ Saved as audio/learning_tips_7_9.mp3\")\n"
   ]
  },
  {
   "cell_type": "code",
   "execution_count": 3,
   "id": "2f2abc34-4900-4686-8195-6baf984e0e76",
   "metadata": {},
   "outputs": [
    {
     "name": "stdout",
     "output_type": "stream",
     "text": [
      "✅ Audio saved as audio/math_10_12_corrected.mp3\n"
     ]
    }
   ],
   "source": [
    "from gtts import gTTS\n",
    "\n",
    "corrected_text = \"\"\"\n",
    "ሰላም ውድ አንደኛ ደረጃ ተማሪዎች!\n",
    "\n",
    "ዛሬ ቀላል ነጠላ ቁጥሮችን ማመቻቸት እና ችግር መፍታት እንማራለን።\n",
    "\n",
    "ምሳሌ፦ ከፍሉ በመካከለኛ ክፍል ውስጥ ሰዎች 5 በኩል ቁም ነበሩ። አንድ ክፍል ውስጥ ያሉት ስንት ሰዎች ናቸው?\n",
    "\n",
    "እንደ ምሳሌ፣ 5 ተመሳሳይ ተደጋጋሚ ቁጥር ይወስዳል። እና 5 × 4 ማለት 20 ነው።\n",
    "\n",
    "ቀላል ቁጥሮችን መተግበር ችግር ለመፍታት ይረዳናል።\n",
    "\n",
    "በራስህ ቁጥሮችን መተንተን እና በፍጥነት መለያየት አስፈላጊ ነው።\n",
    "\n",
    "እንማር፣ እንግዛ፣ የትምህርት መንገድ እንድትሆን ይሁን።\n",
    "\n",
    "እናመሰግናለን!\n",
    "\"\"\"\n",
    "\n",
    "tts = gTTS(text=corrected_text, lang='am')\n",
    "tts.save(\"audio/math_10_12_corrected.mp3\")\n",
    "print(\"✅ Audio saved as audio/math_10_12_corrected.mp3\")\n"
   ]
  },
  {
   "cell_type": "code",
   "execution_count": 4,
   "id": "13d3cb9b-2da0-427d-9af2-a43c31bf2f33",
   "metadata": {},
   "outputs": [
    {
     "name": "stdout",
     "output_type": "stream",
     "text": [
      "✅ Saved as audio/english_13plus.mp3\n"
     ]
    }
   ],
   "source": [
    "from gtts import gTTS\n",
    "\n",
    "english_script = \"\"\"\n",
    "Hello dear students!\n",
    "\n",
    "Today, we are going to practice speaking English with confidence.\n",
    "\n",
    "Let’s start with simple daily expressions.\n",
    "\n",
    "One: Good morning! How are you today?\n",
    "Two: I am fine, thank you. And you?\n",
    "Three: What is your name?\n",
    "Four: My name is Sara. What about you?\n",
    "Five: Where do you live?\n",
    "Six: I live in Bahir Dar.\n",
    "Seven: What do you like to do?\n",
    "Eight: I like reading books and playing football.\n",
    "\n",
    "Now let’s practice asking and answering:\n",
    "\n",
    "Question: What is your favorite subject?\n",
    "Answer: My favorite subject is English!\n",
    "\n",
    "Remember: Practice makes perfect.\n",
    "Try to speak English every day — even small sentences.\n",
    "\n",
    "Thank you!\n",
    "\"\"\"\n",
    "\n",
    "tts = gTTS(text=english_script, lang='en')\n",
    "tts.save(\"audio/english_13plus.mp3\")\n",
    "print(\"✅ Saved as audio/english_13plus.mp3\")\n"
   ]
  },
  {
   "cell_type": "markdown",
   "id": "aacc91f3-07a5-4d00-a1d2-ec0ba279dc0c",
   "metadata": {},
   "source": [
    "# Generating Numbering and English Alphabet generation "
   ]
  },
  {
   "cell_type": "code",
   "execution_count": 1,
   "id": "7619457f-c5a5-4f75-9a11-699970aca246",
   "metadata": {},
   "outputs": [
    {
     "name": "stdout",
     "output_type": "stream",
     "text": [
      "✅ Saved: C:\\Users\\dell\\Project_for_kids\\Audio\\1-3_numbering.mp3\n",
      "✅ Saved: C:\\Users\\dell\\Project_for_kids\\Audio\\1-3_english_alphabet.mp3\n",
      "✅ Saved: C:\\Users\\dell\\Project_for_kids\\Audio\\4-5_numbering.mp3\n",
      "✅ Saved: C:\\Users\\dell\\Project_for_kids\\Audio\\4-5_english_words.mp3\n"
     ]
    }
   ],
   "source": [
    "from gtts import gTTS\n",
    "import os\n",
    "\n",
    "# Define your full path\n",
    "audio_dir = r\"C:\\Users\\dell\\Project_for_kids\\Audio\"\n",
    "\n",
    "# Create the audio folder if it doesn't exist\n",
    "os.makedirs(audio_dir, exist_ok=True)\n",
    "\n",
    "# Define full content for each lesson\n",
    "audio_content = {\n",
    "    \"1-3_numbering.mp3\": \"Let's count together! One, two, three, four, five, six, seven, eight, nine, ten.\",\n",
    "    \"1-3_english_alphabet.mp3\": \"Let's say the alphabet! A, B, C, D, E, F, G, H, I, J, K, L, M, N, O, P, Q, R, S, T, U, V, W, X, Y, Z.\",\n",
    "    \"4-5_numbering.mp3\": \"Let's count more! One, two, three, four, five, six, seven, eight, nine, ten, eleven, twelve, thirteen, fourteen, fifteen, sixteen, seventeen, eighteen, nineteen, twenty.\",\n",
    "    \"4-5_english_words.mp3\": \"A is for Apple. B is for Ball. C is for Cat. D is for Dog. E is for Elephant. F is for Fish. G is for Goat. H is for Hat. I is for Ice cream. J is for Juice. K is for Kite. L is for Lion. M is for Monkey. N is for Nest. O is for Orange. P is for Panda. Q is for Queen. R is for Rabbit. S is for Sun. T is for Tiger. U is for Umbrella. V is for Van. W is for Water. X is for Xylophone. Y is for Yo-yo. Z is for Zebra.\"\n",
    "}\n",
    "\n",
    "# Generate and save audio files\n",
    "for filename, text in audio_content.items():\n",
    "    tts = gTTS(text=text, lang='en')\n",
    "    filepath = os.path.join(audio_dir, filename)\n",
    "    tts.save(filepath)\n",
    "    print(f\"✅ Saved: {filepath}\")\n"
   ]
  },
  {
   "cell_type": "markdown",
   "id": "a12a7e3f-f19a-410d-8116-19288b2b0c30",
   "metadata": {},
   "source": [
    "# Amharic lesson Audio Generation"
   ]
  },
  {
   "cell_type": "code",
   "execution_count": 1,
   "id": "176053b8-af81-4bed-b645-a86034017ae8",
   "metadata": {},
   "outputs": [
    {
     "name": "stdout",
     "output_type": "stream",
     "text": [
      "✅ Saved: C:\\Users\\dell\\Project_for_kids\\Audio\\1-3_amharic_alphabet.mp3\n",
      "✅ Saved: C:\\Users\\dell\\Project_for_kids\\Audio\\4-5_amharic_words.mp3\n"
     ]
    }
   ],
   "source": [
    "from gtts import gTTS\n",
    "import os\n",
    "\n",
    "# Define path\n",
    "audio_dir = r\"C:\\Users\\dell\\Project_for_kids\\Audio\"\n",
    "os.makedirs(audio_dir, exist_ok=True)\n",
    "\n",
    "# Define Amharic lesson audio content (text in Ge'ez but read by English TTS)\n",
    "amharic_audio = {\n",
    "    \"1-3_amharic_alphabet.mp3\": \"Ha, Le, Ha, Me, Se, Re, Sa, Sha, Qa, Be, Te, Che, Ne, Ne, E, Ke, We, E.\",\n",
    "    \"4-5_amharic_words.mp3\": \"Ha is for Hahu. Le is for Lemlem. Me is for Metasebia. Let's learn more Amharic letters and words!\"\n",
    "}\n",
    "\n",
    "# Generate and save\n",
    "for filename, text in amharic_audio.items():\n",
    "    filepath = os.path.join(audio_dir, filename)\n",
    "    if not os.path.exists(filepath):\n",
    "        tts = gTTS(text=text, lang='en')  # Still using English TTS to read phonetically\n",
    "        tts.save(filepath)\n",
    "        print(f\"✅ Saved: {filepath}\")\n"
   ]
  },
  {
   "cell_type": "markdown",
   "id": "6c691791-d3f2-4f5f-a675-c680c7e92835",
   "metadata": {},
   "source": [
    "# Video Generation "
   ]
  },
  {
   "cell_type": "code",
   "execution_count": 1,
   "id": "7c40595f-3780-4fad-992f-e27f7172acd2",
   "metadata": {},
   "outputs": [
    {
     "ename": "ModuleNotFoundError",
     "evalue": "No module named 'moviepy.editor'",
     "output_type": "error",
     "traceback": [
      "\u001b[1;31m---------------------------------------------------------------------------\u001b[0m",
      "\u001b[1;31mModuleNotFoundError\u001b[0m                       Traceback (most recent call last)",
      "Cell \u001b[1;32mIn[1], line 1\u001b[0m\n\u001b[1;32m----> 1\u001b[0m \u001b[38;5;28;01mfrom\u001b[39;00m \u001b[38;5;21;01mmoviepy\u001b[39;00m\u001b[38;5;21;01m.\u001b[39;00m\u001b[38;5;21;01meditor\u001b[39;00m \u001b[38;5;28;01mimport\u001b[39;00m \u001b[38;5;241m*\u001b[39m\n\u001b[0;32m      2\u001b[0m \u001b[38;5;28;01mfrom\u001b[39;00m \u001b[38;5;21;01mgtts\u001b[39;00m \u001b[38;5;28;01mimport\u001b[39;00m gTTS\n\u001b[0;32m      3\u001b[0m \u001b[38;5;28;01mimport\u001b[39;00m \u001b[38;5;21;01mos\u001b[39;00m\n",
      "\u001b[1;31mModuleNotFoundError\u001b[0m: No module named 'moviepy.editor'"
     ]
    }
   ],
   "source": [
    "from moviepy.editor import *\n",
    "from gtts import gTTS\n",
    "import os\n",
    "\n",
    "# Output folders\n",
    "audio_dir = \"Audio\"\n",
    "video_dir = \"Videos\"\n",
    "os.makedirs(audio_dir, exist_ok=True)\n",
    "os.makedirs(video_dir, exist_ok=True)\n",
    "\n",
    "# Text for the video (example: English alphabet)\n",
    "lesson_text = \"A, B, C, D, E, F, G, H, I, J, K, L, M, N, O, P, Q, R, S, T, U, V, W, X, Y, Z.\"\n",
    "\n",
    "# Generate TTS audio\n",
    "tts = gTTS(text=lesson_text, lang='en')\n",
    "audio_path = os.path.join(audio_dir, \"alphabet_audio.mp3\")\n",
    "tts.save(audio_path)\n",
    "\n",
    "# Create a background clip with text\n",
    "text_clip = TextClip(\"Let's Learn the Alphabet!\", fontsize=70, color='white', bg_color='blue', size=(720, 1280))\n",
    "text_clip = text_clip.set_duration(10).set_position('center')\n",
    "\n",
    "# Create background audio\n",
    "audio_clip = AudioFileClip(audio_path)\n",
    "\n",
    "# Combine video and audio\n",
    "video = text_clip.set_audio(audio_clip)\n",
    "\n",
    "# Export video\n",
    "output_path = os.path.join(video_dir, \"alphabet_video.mp4\")\n",
    "video.write_videofile(output_path, fps=24)\n",
    "\n",
    "print(f\"✅ Video saved at: {output_path}\")\n"
   ]
  },
  {
   "cell_type": "code",
   "execution_count": 2,
   "id": "6d8b4c7d-683c-4502-b185-ac04d2ccb851",
   "metadata": {},
   "outputs": [
    {
     "ename": "ModuleNotFoundError",
     "evalue": "No module named 'moviepy.editor'",
     "output_type": "error",
     "traceback": [
      "\u001b[1;31m---------------------------------------------------------------------------\u001b[0m",
      "\u001b[1;31mModuleNotFoundError\u001b[0m                       Traceback (most recent call last)",
      "Cell \u001b[1;32mIn[2], line 1\u001b[0m\n\u001b[1;32m----> 1\u001b[0m \u001b[38;5;28;01mfrom\u001b[39;00m \u001b[38;5;21;01mmoviepy\u001b[39;00m\u001b[38;5;21;01m.\u001b[39;00m\u001b[38;5;21;01meditor\u001b[39;00m \u001b[38;5;28;01mimport\u001b[39;00m \u001b[38;5;241m*\u001b[39m\n\u001b[0;32m      2\u001b[0m \u001b[38;5;28mprint\u001b[39m(\u001b[38;5;124m\"\u001b[39m\u001b[38;5;124m✅ moviepy is working in this kernel!\u001b[39m\u001b[38;5;124m\"\u001b[39m)\n",
      "\u001b[1;31mModuleNotFoundError\u001b[0m: No module named 'moviepy.editor'"
     ]
    }
   ],
   "source": [
    "from moviepy.editor import *\n",
    "print(\"✅ moviepy is working in this kernel!\")\n"
   ]
  },
  {
   "cell_type": "code",
   "execution_count": 3,
   "id": "ae8d419a-a953-4ca8-b3e8-c7d0d3abd335",
   "metadata": {},
   "outputs": [
    {
     "name": "stdout",
     "output_type": "stream",
     "text": [
      "C:\\ProgramData\\anaconda3\\python.exe\n"
     ]
    }
   ],
   "source": [
    "import sys\n",
    "print(sys.executable)\n"
   ]
  },
  {
   "cell_type": "code",
   "execution_count": 1,
   "id": "1d43a0d2-a3f6-4aee-acad-d128770ca0b3",
   "metadata": {},
   "outputs": [
    {
     "name": "stderr",
     "output_type": "stream",
     "text": [
      "\n",
      "A module that was compiled using NumPy 1.x cannot be run in\n",
      "NumPy 2.3.1 as it may crash. To support both 1.x and 2.x\n",
      "versions of NumPy, modules must be compiled with NumPy 2.0.\n",
      "Some module may need to rebuild instead e.g. with 'pybind11>=2.12'.\n",
      "\n",
      "If you are a user of the module, the easiest solution will be to\n",
      "downgrade to 'numpy<2' or try to upgrade the affected module.\n",
      "We expect that some modules will need time to support NumPy 2.\n",
      "\n",
      "Traceback (most recent call last):  File \"<frozen runpy>\", line 198, in _run_module_as_main\n",
      "  File \"<frozen runpy>\", line 88, in _run_code\n",
      "  File \"C:\\ProgramData\\anaconda3\\Lib\\site-packages\\ipykernel_launcher.py\", line 17, in <module>\n",
      "    app.launch_new_instance()\n",
      "  File \"C:\\ProgramData\\anaconda3\\Lib\\site-packages\\traitlets\\config\\application.py\", line 1075, in launch_instance\n",
      "    app.start()\n",
      "  File \"C:\\ProgramData\\anaconda3\\Lib\\site-packages\\ipykernel\\kernelapp.py\", line 701, in start\n",
      "    self.io_loop.start()\n",
      "  File \"C:\\ProgramData\\anaconda3\\Lib\\site-packages\\tornado\\platform\\asyncio.py\", line 205, in start\n",
      "    self.asyncio_loop.run_forever()\n",
      "  File \"C:\\ProgramData\\anaconda3\\Lib\\asyncio\\windows_events.py\", line 322, in run_forever\n",
      "    super().run_forever()\n",
      "  File \"C:\\ProgramData\\anaconda3\\Lib\\asyncio\\base_events.py\", line 641, in run_forever\n",
      "    self._run_once()\n",
      "  File \"C:\\ProgramData\\anaconda3\\Lib\\asyncio\\base_events.py\", line 1986, in _run_once\n",
      "    handle._run()\n",
      "  File \"C:\\ProgramData\\anaconda3\\Lib\\asyncio\\events.py\", line 88, in _run\n",
      "    self._context.run(self._callback, *self._args)\n",
      "  File \"C:\\ProgramData\\anaconda3\\Lib\\site-packages\\ipykernel\\kernelbase.py\", line 534, in dispatch_queue\n",
      "    await self.process_one()\n",
      "  File \"C:\\ProgramData\\anaconda3\\Lib\\site-packages\\ipykernel\\kernelbase.py\", line 523, in process_one\n",
      "    await dispatch(*args)\n",
      "  File \"C:\\ProgramData\\anaconda3\\Lib\\site-packages\\ipykernel\\kernelbase.py\", line 429, in dispatch_shell\n",
      "    await result\n",
      "  File \"C:\\ProgramData\\anaconda3\\Lib\\site-packages\\ipykernel\\kernelbase.py\", line 767, in execute_request\n",
      "    reply_content = await reply_content\n",
      "  File \"C:\\ProgramData\\anaconda3\\Lib\\site-packages\\ipykernel\\ipkernel.py\", line 429, in do_execute\n",
      "    res = shell.run_cell(\n",
      "  File \"C:\\ProgramData\\anaconda3\\Lib\\site-packages\\ipykernel\\zmqshell.py\", line 549, in run_cell\n",
      "    return super().run_cell(*args, **kwargs)\n",
      "  File \"C:\\ProgramData\\anaconda3\\Lib\\site-packages\\IPython\\core\\interactiveshell.py\", line 3075, in run_cell\n",
      "    result = self._run_cell(\n",
      "  File \"C:\\ProgramData\\anaconda3\\Lib\\site-packages\\IPython\\core\\interactiveshell.py\", line 3130, in _run_cell\n",
      "    result = runner(coro)\n",
      "  File \"C:\\ProgramData\\anaconda3\\Lib\\site-packages\\IPython\\core\\async_helpers.py\", line 128, in _pseudo_sync_runner\n",
      "    coro.send(None)\n",
      "  File \"C:\\ProgramData\\anaconda3\\Lib\\site-packages\\IPython\\core\\interactiveshell.py\", line 3334, in run_cell_async\n",
      "    has_raised = await self.run_ast_nodes(code_ast.body, cell_name,\n",
      "  File \"C:\\ProgramData\\anaconda3\\Lib\\site-packages\\IPython\\core\\interactiveshell.py\", line 3517, in run_ast_nodes\n",
      "    if await self.run_code(code, result, async_=asy):\n",
      "  File \"C:\\ProgramData\\anaconda3\\Lib\\site-packages\\IPython\\core\\interactiveshell.py\", line 3577, in run_code\n",
      "    exec(code_obj, self.user_global_ns, self.user_ns)\n",
      "  File \"C:\\Users\\dell\\AppData\\Local\\Temp\\ipykernel_11440\\2134195488.py\", line 1, in <module>\n",
      "    import pyarrow\n",
      "  File \"C:\\ProgramData\\anaconda3\\Lib\\site-packages\\pyarrow\\__init__.py\", line 65, in <module>\n",
      "    import pyarrow.lib as _lib\n"
     ]
    },
    {
     "ename": "ImportError",
     "evalue": "\nA module that was compiled using NumPy 1.x cannot be run in\nNumPy 2.3.1 as it may crash. To support both 1.x and 2.x\nversions of NumPy, modules must be compiled with NumPy 2.0.\nSome module may need to rebuild instead e.g. with 'pybind11>=2.12'.\n\nIf you are a user of the module, the easiest solution will be to\ndowngrade to 'numpy<2' or try to upgrade the affected module.\nWe expect that some modules will need time to support NumPy 2.\n\n",
     "output_type": "error",
     "traceback": [
      "\u001b[1;31m---------------------------------------------------------------------------\u001b[0m",
      "\u001b[1;31mImportError\u001b[0m                               Traceback (most recent call last)",
      "File \u001b[1;32m~\\AppData\\Roaming\\Python\\Python312\\site-packages\\numpy\\core\\_multiarray_umath.py:46\u001b[0m, in \u001b[0;36m__getattr__\u001b[1;34m(attr_name)\u001b[0m\n\u001b[0;32m     41\u001b[0m     \u001b[38;5;66;03m# Also print the message (with traceback).  This is because old versions\u001b[39;00m\n\u001b[0;32m     42\u001b[0m     \u001b[38;5;66;03m# of NumPy unfortunately set up the import to replace (and hide) the\u001b[39;00m\n\u001b[0;32m     43\u001b[0m     \u001b[38;5;66;03m# error.  The traceback shouldn't be needed, but e.g. pytest plugins\u001b[39;00m\n\u001b[0;32m     44\u001b[0m     \u001b[38;5;66;03m# seem to swallow it and we should be failing anyway...\u001b[39;00m\n\u001b[0;32m     45\u001b[0m     sys\u001b[38;5;241m.\u001b[39mstderr\u001b[38;5;241m.\u001b[39mwrite(msg \u001b[38;5;241m+\u001b[39m tb_msg)\n\u001b[1;32m---> 46\u001b[0m     \u001b[38;5;28;01mraise\u001b[39;00m \u001b[38;5;167;01mImportError\u001b[39;00m(msg)\n\u001b[0;32m     48\u001b[0m ret \u001b[38;5;241m=\u001b[39m \u001b[38;5;28mgetattr\u001b[39m(_multiarray_umath, attr_name, \u001b[38;5;28;01mNone\u001b[39;00m)\n\u001b[0;32m     49\u001b[0m \u001b[38;5;28;01mif\u001b[39;00m ret \u001b[38;5;129;01mis\u001b[39;00m \u001b[38;5;28;01mNone\u001b[39;00m:\n",
      "\u001b[1;31mImportError\u001b[0m: \nA module that was compiled using NumPy 1.x cannot be run in\nNumPy 2.3.1 as it may crash. To support both 1.x and 2.x\nversions of NumPy, modules must be compiled with NumPy 2.0.\nSome module may need to rebuild instead e.g. with 'pybind11>=2.12'.\n\nIf you are a user of the module, the easiest solution will be to\ndowngrade to 'numpy<2' or try to upgrade the affected module.\nWe expect that some modules will need time to support NumPy 2.\n\n"
     ]
    },
    {
     "ename": "ImportError",
     "evalue": "numpy.core.multiarray failed to import",
     "output_type": "error",
     "traceback": [
      "\u001b[1;31m---------------------------------------------------------------------------\u001b[0m",
      "\u001b[1;31mImportError\u001b[0m                               Traceback (most recent call last)",
      "Cell \u001b[1;32mIn[1], line 1\u001b[0m\n\u001b[1;32m----> 1\u001b[0m \u001b[38;5;28;01mimport\u001b[39;00m \u001b[38;5;21;01mpyarrow\u001b[39;00m\n\u001b[0;32m      2\u001b[0m \u001b[38;5;28mprint\u001b[39m(pyarrow\u001b[38;5;241m.\u001b[39m__version__)\n",
      "File \u001b[1;32mC:\\ProgramData\\anaconda3\\Lib\\site-packages\\pyarrow\\__init__.py:65\u001b[0m\n\u001b[0;32m     63\u001b[0m _gc_enabled \u001b[38;5;241m=\u001b[39m _gc\u001b[38;5;241m.\u001b[39misenabled()\n\u001b[0;32m     64\u001b[0m _gc\u001b[38;5;241m.\u001b[39mdisable()\n\u001b[1;32m---> 65\u001b[0m \u001b[38;5;28;01mimport\u001b[39;00m \u001b[38;5;21;01mpyarrow\u001b[39;00m\u001b[38;5;21;01m.\u001b[39;00m\u001b[38;5;21;01mlib\u001b[39;00m \u001b[38;5;28;01mas\u001b[39;00m \u001b[38;5;21;01m_lib\u001b[39;00m\n\u001b[0;32m     66\u001b[0m \u001b[38;5;28;01mif\u001b[39;00m _gc_enabled:\n\u001b[0;32m     67\u001b[0m     _gc\u001b[38;5;241m.\u001b[39menable()\n",
      "File \u001b[1;32mC:\\ProgramData\\anaconda3\\Lib\\site-packages\\pyarrow\\lib.pyx:36\u001b[0m, in \u001b[0;36minit pyarrow.lib\u001b[1;34m()\u001b[0m\n",
      "\u001b[1;31mImportError\u001b[0m: numpy.core.multiarray failed to import"
     ]
    }
   ],
   "source": [
    "import pyarrow\n",
    "print(pyarrow.__version__)\n"
   ]
  }
 ],
 "metadata": {
  "kernelspec": {
   "display_name": "Python 3 (ipykernel)",
   "language": "python",
   "name": "python3"
  },
  "language_info": {
   "codemirror_mode": {
    "name": "ipython",
    "version": 3
   },
   "file_extension": ".py",
   "mimetype": "text/x-python",
   "name": "python",
   "nbconvert_exporter": "python",
   "pygments_lexer": "ipython3",
   "version": "3.12.7"
  }
 },
 "nbformat": 4,
 "nbformat_minor": 5
}
