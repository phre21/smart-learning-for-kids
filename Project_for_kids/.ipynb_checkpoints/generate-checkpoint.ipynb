{
 "cells": [
  {
   "cell_type": "code",
   "execution_count": 5,
   "id": "7da02020-791e-4a30-b8ad-3da258a59c86",
   "metadata": {},
   "outputs": [],
   "source": [
    "from gtts import gTTS\n",
    "\n",
    "# Correct answer audio (Amharic)\n",
    "tts_correct = gTTS(\"አዎ በትክክል!\", lang='am')\n",
    "tts_correct.save(\"audio/correct_amharic.mp3\")\n",
    "\n",
    "# Wrong answer audio (Amharic)\n",
    "tts_wrong = gTTS(\"ስህተት ነው፣ አይደለም።\", lang='am')\n",
    "tts_wrong.save(\"audio/wrong_amharic.mp3\")\n"
   ]
  },
  {
   "cell_type": "code",
   "execution_count": null,
   "id": "852d5a5f-f7e8-48b8-b884-8ac76f703a53",
   "metadata": {},
   "outputs": [],
   "source": []
  }
 ],
 "metadata": {
  "kernelspec": {
   "display_name": "Python 3 (ipykernel)",
   "language": "python",
   "name": "python3"
  },
  "language_info": {
   "codemirror_mode": {
    "name": "ipython",
    "version": 3
   },
   "file_extension": ".py",
   "mimetype": "text/x-python",
   "name": "python",
   "nbconvert_exporter": "python",
   "pygments_lexer": "ipython3",
   "version": "3.12.7"
  }
 },
 "nbformat": 4,
 "nbformat_minor": 5
}
